{
 "cells": [
  {
   "cell_type": "code",
   "execution_count": 2,
   "metadata": {
    "collapsed": false
   },
   "outputs": [
    {
     "name": "stdout",
     "output_type": "stream",
     "text": [
      "Loaded model from disk\n",
      "The surrogate computational time is 18.660388946533203\n",
      "The mean connectivity by surrogate computation is 0.871381136385\n",
      "DNN Results are now ready!\n"
     ]
    }
   ],
   "source": [
    "#%reset\n",
    "## This code evaluates the performance (connectivity) of the network under extreme earthquake.\n",
    "## Written by Mohammad Amin Nabian, mnabia2@illinois.edu, March 2017\n",
    "\n",
    "## Import libraries\n",
    "import numpy as np\n",
    "import networkx as nx\n",
    "import random\n",
    "import copy\n",
    "import time\n",
    "from joblib import Parallel, delayed\n",
    "import matplotlib.pyplot as plt\n",
    "from sklearn import cross_validation\n",
    "from keras.layers.core import Dense, Activation, Dropout\n",
    "from keras.utils import np_utils, generic_utils\n",
    "from keras.models import Sequential\n",
    "from keras.models import model_from_json\n",
    "\n",
    "## Initialization\n",
    "nbridges=39\n",
    "\n",
    "## load json and create model\n",
    "json_file = open('model2.json', 'r')\n",
    "loaded_model_json = json_file.read()\n",
    "json_file.close()\n",
    "loaded_model_2 = model_from_json(loaded_model_json)\n",
    "# load weights into new model\n",
    "loaded_model_2.load_weights(\"model2.h5\")\n",
    "loaded_model_2.compile(loss='mean_squared_error', optimizer='adam')\n",
    "print(\"Loaded model from disk\")\n",
    "\n",
    "# Import the data for analysis and generate realizations\n",
    "fpb = np.loadtxt('SURVIVALS_Evaluate.txt')\n",
    "fpb_T = fpb.T\n",
    "nsamplesEQ = np.shape(fpb)[1]\n",
    "\n",
    "## Evaluate the System Response\n",
    "\n",
    "# Calculate the network connectivity using ANN surrogate\n",
    "def CONNECTIVITY_surrogate (index):\n",
    "    connect_sample_ANN = loaded_model_2.predict(fpb_T[index,:].reshape(1,-1))\n",
    "    return connect_sample_ANN\n",
    "start_time = time.time()\n",
    "connect_ANN = Parallel(n_jobs=1)(delayed(CONNECTIVITY_surrogate)(index) for index in range(nsamplesEQ))\n",
    "elapsed_time_surrogate = time.time() - start_time\n",
    "print('The surrogate computational time is',elapsed_time_surrogate)\n",
    "print('The mean connectivity by surrogate computation is',np.mean(connect_ANN))\n",
    "print('DNN Results are now ready!')\n",
    "np.savetxt('connectivity_results_surrogate.txt',connect_ANN)"
   ]
  },
  {
   "cell_type": "code",
   "execution_count": null,
   "metadata": {
    "collapsed": true
   },
   "outputs": [],
   "source": []
  }
 ],
 "metadata": {
  "kernelspec": {
   "display_name": "Python 3",
   "language": "python",
   "name": "python3"
  },
  "language_info": {
   "codemirror_mode": {
    "name": "ipython",
    "version": 3
   },
   "file_extension": ".py",
   "mimetype": "text/x-python",
   "name": "python",
   "nbconvert_exporter": "python",
   "pygments_lexer": "ipython3",
   "version": "3.5.1"
  }
 },
 "nbformat": 4,
 "nbformat_minor": 0
}
