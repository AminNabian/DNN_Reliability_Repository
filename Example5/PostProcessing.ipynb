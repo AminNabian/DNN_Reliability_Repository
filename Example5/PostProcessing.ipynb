{
 "cells": [
  {
   "cell_type": "code",
   "execution_count": 1,
   "metadata": {
    "collapsed": false
   },
   "outputs": [],
   "source": [
    "# %reset\n",
    "## This code performs post processing of network connectivity data.\n",
    "## Written by Mohammad Amin Nabian, mnabia2@illinois.edu, March 2017\n",
    "\n",
    "## Import libraries\n",
    "import numpy as np\n",
    "import matplotlib.pyplot as plt\n",
    "\n",
    "## Import connectivity data\n",
    "# Y_MCS = np.loadtxt('connectivity_results_standard.txt'); Y_MCS = Y_MCS.reshape(1,-1)[0]\n",
    "Y_ANN = np.loadtxt('connectivity_results_surrogate.txt'); Y_ANN = Y_ANN.reshape(1,-1)[0]\n",
    "#X = np.loadtxt('samples_evaluate.txt');\n",
    "#X_train = np.loadtxt('samples_train.txt')\n",
    "#X_test = np.loadtxt('samples_test.txt')\n",
    "#fpb = np.loadtxt('SURVIVALS_Evaluate.txt')\n",
    "nsamples = len(Y_ANN)\n"
   ]
  },
  {
   "cell_type": "code",
   "execution_count": 2,
   "metadata": {
    "collapsed": false
   },
   "outputs": [],
   "source": [
    "## Plot the mean connectivity\n",
    "# EY_MCS = np.zeros(nsamples)\n",
    "EY_ANN = np.zeros(nsamples)\n",
    "for i in range (1,nsamples):\n",
    "#     EY_MCS[i] = np.mean(Y_MCS[0:i])\n",
    "    EY_ANN[i] = np.mean(Y_ANN[0:i])\n",
    "\n",
    "plt.xlabel('Number of Earthquake Realizations')\n",
    "plt.ylabel('Expected Two-Terminal Connectivity Probability')\n",
    "# plt.title('MCS for Two-Terminal Connectivity Probability; Probabilistic Magnitude')\n",
    "index=range(0, nsamples)\n",
    "plt.xscale('log')\n",
    "# plt.ylim(0.78,1.)\n",
    "# plt.plot(index[0:250], Y_MCS[0:250], 'k', label='Depth-First Search Estimate', linewidth=1.2)\n",
    "# plt.plot(index[0:250], Y_ANN[0:250], 'r--', label='ANN-Based Surrogate Estimate', linewidth=1.2)\n",
    "# plt.plot(index[1:], EY_MCS[1:], 'k', label='Depth-First Search Estimate', linewidth=1.5)\n",
    "plt.plot(index[1:], EY_ANN[1:], 'r', label='Deep Neural Network Estimate', linewidth=1.5)\n",
    "plt.legend(loc=1)\n",
    "plt.savefig('Connectivity_Convergence_Plot',dpi=750)\n",
    "plt.show()\n"
   ]
  },
  {
   "cell_type": "code",
   "execution_count": 29,
   "metadata": {
    "collapsed": true
   },
   "outputs": [],
   "source": [
    "## Plot the individual connectivity\n",
    "\n",
    "plt.xlabel('Earthquake Realization')\n",
    "plt.ylabel('Two-Terminal Connectivity Probability')\n",
    "# plt.title('MCS for Two-Terminal Connectivity Probability; Probabilistic Magnitude')\n",
    "index=range(0, nsamples)\n",
    "# plt.xscale('log')\n",
    "plt.ylim(0.78,1.)\n",
    "plt.plot(index[0:200], Y_MCS[0:200], 'k', label='Depth-First Search Estimate', linewidth=1.2)\n",
    "plt.plot(index[0:200], Y_ANN[0:200], 'r--', label='ANN-Based Surrogate Estimate', linewidth=1.2)\n",
    "# plt.plot(index[1:], EY_MCS[1:], 'k', label='Depth-First Search Estimate', linewidth=1.5)\n",
    "# plt.plot(index[1:], EY_ANN[1:], 'r', label='Deep Neural Network Estimate', linewidth=1.5)\n",
    "plt.legend(loc=1)\n",
    "plt.savefig('Connectivity_individual_Plot',dpi=750)\n",
    "plt.show()"
   ]
  },
  {
   "cell_type": "code",
   "execution_count": 3,
   "metadata": {
    "collapsed": false
   },
   "outputs": [
    {
     "ename": "NameError",
     "evalue": "name 'nmcs' is not defined",
     "output_type": "error",
     "traceback": [
      "\u001b[0;31m---------------------------------------------------------------------------\u001b[0m",
      "\u001b[0;31mNameError\u001b[0m                                 Traceback (most recent call last)",
      "\u001b[0;32m<ipython-input-3-54ee9f698e7d>\u001b[0m in \u001b[0;36m<module>\u001b[0;34m()\u001b[0m\n\u001b[1;32m      1\u001b[0m \u001b[0;31m## Surrogate Performance Measures\u001b[0m\u001b[0;34m\u001b[0m\u001b[0;34m\u001b[0m\u001b[0m\n\u001b[0;32m----> 2\u001b[0;31m \u001b[0mIndicator\u001b[0m \u001b[0;34m=\u001b[0m \u001b[0mnp\u001b[0m\u001b[0;34m.\u001b[0m\u001b[0mzeros\u001b[0m\u001b[0;34m(\u001b[0m\u001b[0mnmcs\u001b[0m\u001b[0;34m,\u001b[0m \u001b[0mdtype\u001b[0m\u001b[0;34m=\u001b[0m\u001b[0mint\u001b[0m\u001b[0;34m)\u001b[0m\u001b[0;34m\u001b[0m\u001b[0m\n\u001b[0m\u001b[1;32m      3\u001b[0m \u001b[0mIndicator_plus_num\u001b[0m \u001b[0;34m=\u001b[0m \u001b[0;36m0\u001b[0m\u001b[0;34m;\u001b[0m \u001b[0mIndicator_plus_denum\u001b[0m \u001b[0;34m=\u001b[0m \u001b[0;36m0\u001b[0m\u001b[0;34m\u001b[0m\u001b[0m\n\u001b[1;32m      4\u001b[0m \u001b[0mIndicator_minus_num\u001b[0m \u001b[0;34m=\u001b[0m \u001b[0;36m0\u001b[0m\u001b[0;34m;\u001b[0m \u001b[0mIndicator_minus_denum\u001b[0m \u001b[0;34m=\u001b[0m \u001b[0;36m0\u001b[0m\u001b[0;34m\u001b[0m\u001b[0m\n\u001b[1;32m      5\u001b[0m \u001b[0;32mfor\u001b[0m \u001b[0mi\u001b[0m \u001b[0;32min\u001b[0m \u001b[0mrange\u001b[0m \u001b[0;34m(\u001b[0m\u001b[0mnmcs\u001b[0m\u001b[0;34m)\u001b[0m\u001b[0;34m:\u001b[0m\u001b[0;34m\u001b[0m\u001b[0m\n",
      "\u001b[0;31mNameError\u001b[0m: name 'nmcs' is not defined"
     ]
    }
   ],
   "source": [
    "## Surrogate Performance Measures\n",
    "Indicator = np.zeros(nmcs, dtype=int)\n",
    "Indicator_plus_num = 0; Indicator_plus_denum = 0\n",
    "Indicator_minus_num = 0; Indicator_minus_denum = 0\n",
    "for i in range (nmcs):\n",
    "    if Y_MCS[i] == Y_ANN[i]:\n",
    "        Indicator[i] = 1\n",
    "    if Y_MCS[i] == 1:\n",
    "        Indicator_plus_denum += 1\n",
    "        if Y_ANN[i] == 1:\n",
    "            Indicator_plus_num += 1\n",
    "    if Y_MCS[i] == 0:\n",
    "        Indicator_minus_denum += 1\n",
    "        if Y_ANN[i] == 0:\n",
    "            Indicator_minus_num += 1\n",
    "performance = np.mean(Indicator)\n",
    "performance_plus = Indicator_plus_num/Indicator_plus_denum\n",
    "performance_minus = Indicator_minus_num/Indicator_minus_denum\n",
    "print('The overal accuracy of surrogate model is',performance)\n",
    "print('The overal positive accuracy of surrogate model is',performance_plus)\n",
    "print('The overal negative accuracy of surrogate model is',performance_minus)\n"
   ]
  },
  {
   "cell_type": "code",
   "execution_count": 29,
   "metadata": {
    "collapsed": false
   },
   "outputs": [
    {
     "name": "stdout",
     "output_type": "stream",
     "text": [
      "The training and test data overlap is: % 21.425\n"
     ]
    }
   ],
   "source": [
    "# ## Calculate training and test data overlap\n",
    "# Strng_test = []\n",
    "# Strng_train = []\n",
    "# ntrain = len(X_train)\n",
    "# ntest = len(X_test)\n",
    "# for i in range (ntest):\n",
    "#     Strng_test.append(\"\".join(str(int(x)) for x in X_test[i]))\n",
    "# for i in range (ntrain):\n",
    "#     Strng_train.append(\"\".join(str(int(y)) for y in X_train[i]))\n",
    "# count = 0\n",
    "# for i in range(ntest):\n",
    "#     if Strng_test[i] in Strng_train:\n",
    "#         count += 1\n",
    "# print('The training and test data overlap is: %', count*100/ntest)"
   ]
  },
  {
   "cell_type": "code",
   "execution_count": 47,
   "metadata": {
    "collapsed": false
   },
   "outputs": [
    {
     "name": "stdout",
     "output_type": "stream",
     "text": [
      "The training and evaluate data overlap is: % 30.24\n"
     ]
    }
   ],
   "source": [
    "# ## Calculate training and evaluate data overlap\n",
    "# Strng_evaluate = []\n",
    "# Strng_train = []\n",
    "# ntrain = len(X_train)\n",
    "# for i in range (nmcs):\n",
    "#     Strng_evaluate.append(\"\".join(str(int(x)) for x in X[i]))\n",
    "# for i in range (ntrain):\n",
    "#     Strng_train.append(\"\".join(str(int(y)) for y in X_train[i]))\n",
    "# count = 0\n",
    "# for i in range(nmcs):\n",
    "#     if Strng_evaluate[i] in Strng_train:\n",
    "#         count += 1\n",
    "# print('The training and evaluate data overlap is: %', count*100/nmcs)"
   ]
  }
 ],
 "metadata": {
  "kernelspec": {
   "display_name": "Python 3",
   "language": "python",
   "name": "python3"
  },
  "language_info": {
   "codemirror_mode": {
    "name": "ipython",
    "version": 3
   },
   "file_extension": ".py",
   "mimetype": "text/x-python",
   "name": "python",
   "nbconvert_exporter": "python",
   "pygments_lexer": "ipython3",
   "version": "3.5.1"
  }
 },
 "nbformat": 4,
 "nbformat_minor": 0
}
