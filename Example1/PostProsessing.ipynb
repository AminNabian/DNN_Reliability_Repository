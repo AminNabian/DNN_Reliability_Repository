{
 "cells": [
  {
   "cell_type": "code",
   "execution_count": 20,
   "metadata": {
    "collapsed": false
   },
   "outputs": [],
   "source": [
    "# %reset\n",
    "## This code performs post processing of network connectivity data.\n",
    "## Written by Mohammad Amin Nabian, mnabia2@illinois.edu, March 2017\n",
    "\n",
    "## Import libraries\n",
    "import numpy as np\n",
    "from joblib import Parallel, delayed\n",
    "import matplotlib.pyplot as plt\n",
    "\n",
    "## Import connectivity data\n",
    "Y_MCS = np.loadtxt('connectivity_results_standard_7.6.txt')\n",
    "Y_ANN = np.loadtxt('connectivity_results_surrogate_7.6.txt')\n",
    "X = np.loadtxt('samples_evaluate.txt')\n",
    "X_train = np.loadtxt('samples_train.txt')\n",
    "X_test = np.loadtxt('samples_test.txt')\n",
    "fpb_67 = np.loadtxt('SURVIVALS_Evaluate_6.7.txt')\n",
    "fpb_70 = np.loadtxt('SURVIVALS_Evaluate_7.0.txt')\n",
    "fpb_73 = np.loadtxt('SURVIVALS_Evaluate_7.3.txt')\n",
    "fpb_76 = np.loadtxt('SURVIVALS_Evaluate_7.6.txt')\n",
    "fpb_79 = np.loadtxt('SURVIVALS_Evaluate_7.9.txt')\n",
    "nmcs = len(Y_MCS)\n"
   ]
  },
  {
   "cell_type": "code",
   "execution_count": 21,
   "metadata": {
    "collapsed": false
   },
   "outputs": [],
   "source": [
    "## Plot the mean connectivity\n",
    "EY_MCS = np.zeros(nmcs)\n",
    "EY_ANN = np.zeros(nmcs)\n",
    "j = 0\n",
    "for i in range (10,nmcs):\n",
    "    EY_MCS[i] = np.mean(Y_MCS[0:i])\n",
    "    EY_ANN[i] = np.mean(Y_ANN[0:i])\n",
    "\n",
    "plt.xticks(fontsize = 14);plt.yticks(fontsize = 14)\n",
    "plt.xlabel('Number of Samples',fontsize = 14)\n",
    "plt.ylabel('Expected Two-Terminal Connectivity Probability',fontsize = 14)\n",
    "index=range(0, nmcs)\n",
    "plt.xscale('log')\n",
    "plt.plot(index[10:], EY_MCS[10:], 'k', label='Depth-First Search Estimate', linewidth=1.5)\n",
    "plt.plot(index[10:], EY_ANN[10:], 'r--', label='Deep Neural Network Estimate', linewidth=1.5)\n",
    "plt.legend(loc=4,fontsize = 14)\n",
    "plt.savefig('Connectivity_Convergence_Plot_76',dpi=750)\n",
    "plt.show()\n"
   ]
  },
  {
   "cell_type": "code",
   "execution_count": 22,
   "metadata": {
    "collapsed": false
   },
   "outputs": [
    {
     "name": "stdout",
     "output_type": "stream",
     "text": [
      "The overal accuracy of surrogate model is 0.99787\n",
      "The overal positive accuracy of surrogate model is 0.9984634416303144\n",
      "The overal negative accuracy of surrogate model is 0.9959060547295842\n"
     ]
    }
   ],
   "source": [
    "## Surrogate Performance Measures\n",
    "Indicator = np.zeros(nmcs, dtype=int)\n",
    "Indicator_plus_num = 0; Indicator_plus_denum = 0\n",
    "Indicator_minus_num = 0; Indicator_minus_denum = 0\n",
    "for i in range (nmcs):\n",
    "    if Y_MCS[i] == Y_ANN[i]:\n",
    "        Indicator[i] = 1\n",
    "    if Y_MCS[i] == 1:\n",
    "        Indicator_plus_denum += 1\n",
    "        if Y_ANN[i] == 1:\n",
    "            Indicator_plus_num += 1\n",
    "    if Y_MCS[i] == 0:\n",
    "        Indicator_minus_denum += 1\n",
    "        if Y_ANN[i] == 0:\n",
    "            Indicator_minus_num += 1\n",
    "performance = np.mean(Indicator)\n",
    "performance_plus = Indicator_plus_num/Indicator_plus_denum\n",
    "performance_minus = Indicator_minus_num/Indicator_minus_denum\n",
    "print('The overal accuracy of surrogate model is',performance)\n",
    "print('The overal positive accuracy of surrogate model is',performance_plus)\n",
    "print('The overal negative accuracy of surrogate model is',performance_minus)\n"
   ]
  },
  {
   "cell_type": "code",
   "execution_count": 23,
   "metadata": {
    "collapsed": false
   },
   "outputs": [
    {
     "name": "stdout",
     "output_type": "stream",
     "text": [
      "The training and test data overlap is: % 0.075\n"
     ]
    }
   ],
   "source": [
    "#### Calculate training and test data overlap\n",
    "Strng_test = []\n",
    "Strng_train = []\n",
    "ntrain = len(X_train)\n",
    "ntest = len(X_test)\n",
    "for i in range (ntest):\n",
    "    Strng_test.append(\"\".join(str(int(x)) for x in X_test[i]))\n",
    "for i in range (ntrain):\n",
    "    Strng_train.append(\"\".join(str(int(y)) for y in X_train[i]))\n",
    "count = 0\n",
    "for i in range(ntest):\n",
    "    if Strng_test[i] in Strng_train:\n",
    "        count += 1\n",
    "print('The training and test data overlap is: %', count*100/ntest)"
   ]
  },
  {
   "cell_type": "code",
   "execution_count": 24,
   "metadata": {
    "collapsed": false
   },
   "outputs": [
    {
     "name": "stdout",
     "output_type": "stream",
     "text": [
      "The training and evaluate data overlap is: % 0.978\n"
     ]
    }
   ],
   "source": [
    "## Calculate training and evaluate data overlap\n",
    "Strng_evaluate = []\n",
    "Strng_train = []\n",
    "ntrain = len(X_train)\n",
    "for i in range (nmcs):\n",
    "    Strng_evaluate.append(\"\".join(str(int(x)) for x in X[i]))\n",
    "for i in range (ntrain):\n",
    "    Strng_train.append(\"\".join(str(int(y)) for y in X_train[i]))\n",
    "count = 0\n",
    "for i in range(nmcs):\n",
    "    if Strng_evaluate[i] in Strng_train:\n",
    "        count += 1\n",
    "print('The training and evaluate data overlap is: %', count*100/nmcs)"
   ]
  },
  {
   "cell_type": "code",
   "execution_count": 4,
   "metadata": {
    "collapsed": false
   },
   "outputs": [],
   "source": [
    "## Plot the failure probability of bridges\n",
    "index = np.arange(39)\n",
    "plt.plot(index, fpb_67, 'co-',label='Magnitude = 6.7 Mw')\n",
    "plt.plot(index, fpb_70, 'mo-',label='Magnitude = 7.0 Mw')\n",
    "plt.plot(index, fpb_73, 'yo-',label='Magnitude = 7.3 Mw')\n",
    "plt.plot(index, fpb_76, 'ko-',label='Magnitude = 7.6 Mw')\n",
    "plt.plot(index, fpb_79, 'ro-',label='Magnitude = 7.9 Mw')\n",
    "\n",
    "plt.xlabel('Bridge ID')\n",
    "plt.ylabel('Probability of Survival')\n",
    "# plt.title('Survival Probability of Network Bridges; Magnitude = 7.5 Mw ')\n",
    "plt.legend(loc=3)\n",
    "plt.axis([-1, 39, 0.4, 1.])\n",
    "plt.minorticks_on()\n",
    "plt.grid(b=True, which='major', color='black', linestyle='-')\n",
    "# plt.grid(b=True, which='minor', color='gray', linestyle='-')\n",
    "plt.savefig('Bridge_Survival_Probabilities',dpi=750)\n",
    "plt.show()\n"
   ]
  },
  {
   "cell_type": "code",
   "execution_count": null,
   "metadata": {
    "collapsed": true
   },
   "outputs": [],
   "source": []
  }
 ],
 "metadata": {
  "kernelspec": {
   "display_name": "Python 3",
   "language": "python",
   "name": "python3"
  },
  "language_info": {
   "codemirror_mode": {
    "name": "ipython",
    "version": 3
   },
   "file_extension": ".py",
   "mimetype": "text/x-python",
   "name": "python",
   "nbconvert_exporter": "python",
   "pygments_lexer": "ipython3",
   "version": "3.5.1"
  }
 },
 "nbformat": 4,
 "nbformat_minor": 0
}
