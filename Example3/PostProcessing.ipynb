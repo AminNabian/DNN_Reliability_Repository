{
 "cells": [
  {
   "cell_type": "code",
   "execution_count": 3,
   "metadata": {
    "collapsed": false
   },
   "outputs": [],
   "source": [
    "# %reset\n",
    "## This code performs post processing of network connectivity data.\n",
    "## Written by Mohammad Amin Nabian, mnabia2@illinois.edu, March 2017\n",
    "\n",
    "## Import libraries\n",
    "import numpy as np\n",
    "import matplotlib.pyplot as plt\n",
    "\n",
    "## Import connectivity data\n",
    "Y_MCS = np.loadtxt('connectivity_results_standard.txt'); Y_MCS = Y_MCS.reshape(1,-1)[0]\n",
    "Y_ANN = np.loadtxt('connectivity_results_surrogate.txt'); Y_ANN = Y_ANN.reshape(1,-1)[0]\n",
    "#X = np.loadtxt('samples_evaluate.txt');\n",
    "#X_train = np.loadtxt('samples_train.txt')\n",
    "#X_test = np.loadtxt('samples_test.txt')\n",
    "#fpb = np.loadtxt('SURVIVALS_Evaluate.txt')\n",
    "nmcs = len(Y_MCS)\n"
   ]
  },
  {
   "cell_type": "code",
   "execution_count": 6,
   "metadata": {
    "collapsed": false
   },
   "outputs": [],
   "source": [
    "## Plot the mean connectivity\n",
    "EY_MCS = np.zeros(nmcs)\n",
    "EY_ANN = np.zeros(nmcs)\n",
    "EY_MCS[10] = np.mean(Y_MCS[0:10])\n",
    "EY_ANN[10] = np.mean(Y_ANN[0:10])\n",
    "for i in range (11,nmcs):\n",
    "    EY_MCS[i] = (EY_MCS[i-1]*(i-1) + Y_MCS[i])/i\n",
    "    EY_ANN[i] = (EY_ANN[i-1]*(i-1) + Y_ANN[i])/i\n",
    "\n",
    "plt.xlabel('Number of Samples')\n",
    "plt.ylabel('Expected Two-Terminal Connectivity Probability')\n",
    "# plt.title('MCS for Two-Terminal Connectivity Under Uncertainty')\n",
    "index=range(0, nmcs)\n",
    "plt.xscale('log')\n",
    "plt.plot(index[10:], EY_MCS[10:], 'k', label='Depth-First Search Estimate', linewidth=1.5)\n",
    "plt.plot(index[10:], EY_ANN[10:], 'r--', label='Deep Neural Network Estimate', linewidth=1.5)\n",
    "plt.legend(loc=1)\n",
    "plt.savefig('Connectivity_Convergence_Plot',dpi=900)\n",
    "plt.show()\n"
   ]
  },
  {
   "cell_type": "code",
   "execution_count": 5,
   "metadata": {
    "collapsed": false
   },
   "outputs": [
    {
     "name": "stdout",
     "output_type": "stream",
     "text": [
      "The overal accuracy of surrogate model is 0.9965409\n",
      "The overal positive accuracy of surrogate model is 0.9971234500223737\n",
      "The overal negative accuracy of surrogate model is 0.9953078215544746\n"
     ]
    }
   ],
   "source": [
    "## Surrogate Performance Measures\n",
    "Indicator = np.zeros(nmcs, dtype=int)\n",
    "Indicator_plus_num = 0; Indicator_plus_denum = 0\n",
    "Indicator_minus_num = 0; Indicator_minus_denum = 0\n",
    "for i in range (nmcs):\n",
    "    if Y_MCS[i] == Y_ANN[i]:\n",
    "        Indicator[i] = 1\n",
    "    if Y_MCS[i] == 1:\n",
    "        Indicator_plus_denum += 1\n",
    "        if Y_ANN[i] == 1:\n",
    "            Indicator_plus_num += 1\n",
    "    if Y_MCS[i] == 0:\n",
    "        Indicator_minus_denum += 1\n",
    "        if Y_ANN[i] == 0:\n",
    "            Indicator_minus_num += 1\n",
    "performance = np.mean(Indicator)\n",
    "performance_plus = Indicator_plus_num/Indicator_plus_denum\n",
    "performance_minus = Indicator_minus_num/Indicator_minus_denum\n",
    "print('The overal accuracy of surrogate model is',performance)\n",
    "print('The overal positive accuracy of surrogate model is',performance_plus)\n",
    "print('The overal negative accuracy of surrogate model is',performance_minus)\n"
   ]
  },
  {
   "cell_type": "code",
   "execution_count": 29,
   "metadata": {
    "collapsed": false
   },
   "outputs": [
    {
     "name": "stdout",
     "output_type": "stream",
     "text": [
      "The training and test data overlap is: % 21.425\n"
     ]
    }
   ],
   "source": [
    "# ## Calculate training and test data overlap\n",
    "# Strng_test = []\n",
    "# Strng_train = []\n",
    "# ntrain = len(X_train)\n",
    "# ntest = len(X_test)\n",
    "# for i in range (ntest):\n",
    "#     Strng_test.append(\"\".join(str(int(x)) for x in X_test[i]))\n",
    "# for i in range (ntrain):\n",
    "#     Strng_train.append(\"\".join(str(int(y)) for y in X_train[i]))\n",
    "# count = 0\n",
    "# for i in range(ntest):\n",
    "#     if Strng_test[i] in Strng_train:\n",
    "#         count += 1\n",
    "# print('The training and test data overlap is: %', count*100/ntest)"
   ]
  },
  {
   "cell_type": "code",
   "execution_count": 47,
   "metadata": {
    "collapsed": false
   },
   "outputs": [
    {
     "name": "stdout",
     "output_type": "stream",
     "text": [
      "The training and evaluate data overlap is: % 30.24\n"
     ]
    }
   ],
   "source": [
    "# ## Calculate training and evaluate data overlap\n",
    "# Strng_evaluate = []\n",
    "# Strng_train = []\n",
    "# ntrain = len(X_train)\n",
    "# for i in range (nmcs):\n",
    "#     Strng_evaluate.append(\"\".join(str(int(x)) for x in X[i]))\n",
    "# for i in range (ntrain):\n",
    "#     Strng_train.append(\"\".join(str(int(y)) for y in X_train[i]))\n",
    "# count = 0\n",
    "# for i in range(nmcs):\n",
    "#     if Strng_evaluate[i] in Strng_train:\n",
    "#         count += 1\n",
    "# print('The training and evaluate data overlap is: %', count*100/nmcs)"
   ]
  }
 ],
 "metadata": {
  "kernelspec": {
   "display_name": "Python 3",
   "language": "python",
   "name": "python3"
  },
  "language_info": {
   "codemirror_mode": {
    "name": "ipython",
    "version": 3
   },
   "file_extension": ".py",
   "mimetype": "text/x-python",
   "name": "python",
   "nbconvert_exporter": "python",
   "pygments_lexer": "ipython3",
   "version": "3.5.1"
  }
 },
 "nbformat": 4,
 "nbformat_minor": 0
}
